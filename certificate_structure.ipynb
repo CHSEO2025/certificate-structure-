{
 "cells": [
  {
   "cell_type": "code",
   "execution_count": 38,
   "id": "0432d7fd-aa38-41e9-a214-bc1925305644",
   "metadata": {},
   "outputs": [],
   "source": [
    "#pip install pandas openpyxl sqlalchemy pymysql"
   ]
  },
  {
   "cell_type": "code",
   "execution_count": 40,
   "id": "66bdfba5-d9e9-4ba0-a5dd-c2714770a30b",
   "metadata": {},
   "outputs": [
    {
     "name": "stdout",
     "output_type": "stream",
     "text": [
      "     ROLLNO           CAND_NAME             FAT_NAME           MOT_NAME  \\\n",
      "0  341CC017      BIDYAPATI OJHA  KALANDI CHARAN OJHA       RANJITA OJHA   \n",
      "1  308CD055        RUPSA PARIDA      PRADIPTA PARIDA     SASMITA PARIDA   \n",
      "2  305CZ057     PRITIMAYEE MODI      TRILOCHANA MODI      BINODINI MODI   \n",
      "3  306EB072  SAMBIT KUMAR NAYAK       SUDHANSU NAYAK  LAKSHYAHIRA NAYAK   \n",
      "4  146CA090         BANITA RANA           NEPAL RANA   SANDHYABATI RANA   \n",
      "\n",
      "   RESULT_TAG  RANK_T20  RANK_1STD  AGGR      REG_NO  \\\n",
      "0           2         0          0   318  CC41S22020   \n",
      "1           1         0          0   365  CD08S22076   \n",
      "2           1         0          0   457  CZ05S22059   \n",
      "3           3         0          0   255  EB06S22099   \n",
      "4           2         0          0   300  CA46A22112   \n",
      "\n",
      "                                  COLL_NAME  ... MI_MKS  O1_MKS O2_MKS  \\\n",
      "0       SAHASPUR H S SCHOOL, BALICHANDRAPUR  ...    NaN     NaN    NaN   \n",
      "1  HRUDANANDA NAYAK SMARAKI HS SCH, CHANDOL  ...    NaN     NaN    NaN   \n",
      "2      RESNICK SCIENCE H S SCHOOL, FAKIRPUR  ...    NaN     NaN    NaN   \n",
      "3               HILL TOP H S SCHOOL, MOHANA  ...    NaN     NaN    NaN   \n",
      "4    SHAILABALA WOMEN'S H S SCHOOL, CUTTACK  ...    NaN     NaN    NaN   \n",
      "\n",
      "   O3_MKS  O4_MKS  DATE_PUB  QRDATA SLNO   SLNONEW   SLNOGEN   \n",
      "0      NaN    NaN       NaN     NaN   NaN       NaN       NaN  \n",
      "1      NaN    NaN       NaN     NaN   NaN       NaN       NaN  \n",
      "2      NaN    NaN       NaN     NaN   NaN       NaN       NaN  \n",
      "3      NaN    NaN       NaN     NaN   NaN       NaN       NaN  \n",
      "4      NaN    NaN       NaN     NaN   NaN       NaN       NaN  \n",
      "\n",
      "[5 rows x 46 columns]\n"
     ]
    }
   ],
   "source": [
    "import pandas as pd\n",
    "\n",
    "# Load the Excel file\n",
    "df = pd.read_excel('24pas.xlsx')  # use sheet_name=... if needed\n",
    "print(df.head())  # Preview the data\n"
   ]
  },
  {
   "cell_type": "code",
   "execution_count": 44,
   "id": "856096a7-9318-4c3d-a0f0-36eaf2fdac39",
   "metadata": {},
   "outputs": [],
   "source": [
    "import re\n",
    "\n",
    "# Clean all columns: remove any kind of whitespace (incl. non-breaking, unicode)\n",
    "df.columns = [re.sub(r'\\s+', '', col) for col in df.columns]\n"
   ]
  },
  {
   "cell_type": "code",
   "execution_count": 46,
   "id": "4ec19143-cf19-4f6f-b152-a18e0c9edd71",
   "metadata": {},
   "outputs": [
    {
     "data": {
      "text/plain": [
       "0"
      ]
     },
     "execution_count": 46,
     "metadata": {},
     "output_type": "execute_result"
    }
   ],
   "source": [
    "sum(col != col.strip() for col in df.columns)  # Should now return 0\n"
   ]
  },
  {
   "cell_type": "code",
   "execution_count": 50,
   "id": "733e564c-0d37-41ad-b551-337c4b344e41",
   "metadata": {},
   "outputs": [
    {
     "data": {
      "text/plain": [
       "9"
      ]
     },
     "execution_count": 50,
     "metadata": {},
     "output_type": "execute_result"
    }
   ],
   "source": [
    "# Clean column names\n",
    "df.columns = df.columns.str.strip()\n",
    "\n",
    "# Upload to MySQL\n",
    "df.to_sql(name='certificate_structure1', con=engine, if_exists='replace', index=False)\n"
   ]
  },
  {
   "cell_type": "code",
   "execution_count": 52,
   "id": "513d11ae-ad88-4f59-a09a-af0e305371c7",
   "metadata": {},
   "outputs": [],
   "source": [
    "from sqlalchemy import create_engine\n",
    "\n",
    "# Replace the following with your actual database credentials\n",
    "username = 'root'\n",
    "password = 'root'\n",
    "host = 'localhost'  # or IP address\n",
    "port = '3306'\n",
    "database = 'chseo'\n",
    "\n",
    "# SQLAlchemy connection string\n",
    "engine = create_engine(f'mysql+pymysql://{username}:{password}@{host}:{port}/{database}')\n"
   ]
  },
  {
   "cell_type": "code",
   "execution_count": 54,
   "id": "5a6135b8-98b4-4bfd-94f8-cf0f0eb71038",
   "metadata": {},
   "outputs": [
    {
     "name": "stdout",
     "output_type": "stream",
     "text": [
      "['ROLLNO', 'CAND_NAME', 'FAT_NAME', 'MOT_NAME', 'RESULT_TAG', 'RANK_T20', 'RANK_1STD', 'AGGR', 'REG_NO', 'COLL_NAME', 'ENG_SUB', 'ENG_MKS', 'MIL_SUB', 'MIL_MKS', 'OPT1_SUB', 'OPT1T1_MKS', 'OPT1P1_MKS', 'OPT2_SUB', 'OPT2T1_MKS', 'OPT2P1_MKS', 'OPT3_SUB', 'OPT3T1_MKS', 'OPT3T2_MKS', 'OPT3P1_MKS', 'OPT3P2_MKS', 'OPT4_SUB', 'OPT4T1_MKS', 'OPT4T2_MKS', 'OPT4P1_MKS', 'OPT4P2_MKS', 'IN_WORK', 'YOGA', 'BASIC', 'MNR_REFNO1', 'MNR_REFNO2', 'EI_MKS', 'MI_MKS', 'O1_MKS', 'O2_MKS', 'O3_MKS', 'O4_MKS', 'DATE_PUB', 'QRDATA', 'SLNO', 'SLNONEW', 'SLNOGEN']\n"
     ]
    }
   ],
   "source": [
    "print(df.columns.tolist())"
   ]
  },
  {
   "cell_type": "code",
   "execution_count": 56,
   "id": "134056ed-72cd-4495-a2af-2303af482e10",
   "metadata": {},
   "outputs": [
    {
     "name": "stdout",
     "output_type": "stream",
     "text": [
      "Shape: (9, 46)\n",
      "Number of columns: 46\n"
     ]
    }
   ],
   "source": [
    "print(\"Shape:\", df.shape)\n",
    "print(\"Number of columns:\", len(df.columns))\n"
   ]
  },
  {
   "cell_type": "code",
   "execution_count": 58,
   "id": "17da325e-293c-4268-9edc-3a67259e5d8e",
   "metadata": {},
   "outputs": [
    {
     "data": {
      "text/plain": [
       "9"
      ]
     },
     "execution_count": 58,
     "metadata": {},
     "output_type": "execute_result"
    }
   ],
   "source": [
    "table_name = 'certificate_structure1'\n",
    "\n",
    "# Upload dataframe to MySQL (replace table if exists)\n",
    "df.to_sql(name=table_name, con=engine, if_exists='replace', index=False)\n"
   ]
  },
  {
   "cell_type": "code",
   "execution_count": null,
   "id": "d8c85157-7fbd-4b42-bf64-4557d6addb37",
   "metadata": {},
   "outputs": [],
   "source": []
  }
 ],
 "metadata": {
  "kernelspec": {
   "display_name": "Python [conda env:base] *",
   "language": "python",
   "name": "conda-base-py"
  },
  "language_info": {
   "codemirror_mode": {
    "name": "ipython",
    "version": 3
   },
   "file_extension": ".py",
   "mimetype": "text/x-python",
   "name": "python",
   "nbconvert_exporter": "python",
   "pygments_lexer": "ipython3",
   "version": "3.12.7"
  }
 },
 "nbformat": 4,
 "nbformat_minor": 5
}
